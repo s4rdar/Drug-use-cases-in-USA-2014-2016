{
  "nbformat": 4,
  "nbformat_minor": 0,
  "metadata": {
    "colab": {
      "provenance": [],
      "authorship_tag": "ABX9TyPqoGQimzJY9K8sSDHZAlBY",
      "include_colab_link": true
    },
    "kernelspec": {
      "name": "python3",
      "display_name": "Python 3"
    },
    "language_info": {
      "name": "python"
    }
  },
  "cells": [
    {
      "cell_type": "markdown",
      "metadata": {
        "id": "view-in-github",
        "colab_type": "text"
      },
      "source": [
        "<a href=\"https://colab.research.google.com/github/s4rdar/Drug-use-cases-in-USA-2014-2016/blob/main/Analysis.ipynb\" target=\"_parent\"><img src=\"https://colab.research.google.com/assets/colab-badge.svg\" alt=\"Open In Colab\"/></a>"
      ]
    },
    {
      "cell_type": "code",
      "execution_count": null,
      "metadata": {
        "id": "cApcEeYENwws"
      },
      "outputs": [],
      "source": [
        "import pandas as pd\n",
        "import matplotlib.pyplot as plt\n",
        "import numpy as np\n",
        "import seaborn as seb\n"
      ]
    },
    {
      "cell_type": "code",
      "source": [
        "url = 'https://raw.githubusercontent.com/Statistic-GB/Drug-use-cases-in-USA-2014-2016-/main/drug-use-cases(2014-2016).csv'\n",
        "df = pd.read_csv(url, encoding='ISO-8859-1', delimiter=',')"
      ],
      "metadata": {
        "id": "oVXfLFBROBEG"
      },
      "execution_count": null,
      "outputs": []
    },
    {
      "cell_type": "code",
      "source": [
        "df.info()"
      ],
      "metadata": {
        "id": "ikTXTdmGOHxY"
      },
      "execution_count": null,
      "outputs": []
    },
    {
      "cell_type": "code",
      "source": [
        "df.head(5)"
      ],
      "metadata": {
        "id": "jqQ82ElpOTfn"
      },
      "execution_count": null,
      "outputs": []
    },
    {
      "cell_type": "code",
      "source": [
        "\n",
        "\n",
        "\n",
        "df_2014 = df[df['FiscalYear'] == 2014]\n",
        "\n",
        "# Create the histogram for PrimaryDrug in 2014\n",
        "ax = df_2014['PrimaryDrug'].hist()\n",
        "\n",
        "# Set plot labels and title\n",
        "plt.title('PrimaryDrug Histogram - Year 2014')\n",
        "plt.xlabel('PrimaryDrug')\n",
        "plt.ylabel('Frequency')\n",
        "\n",
        "# Rotate x-axis labels vertically\n",
        "plt.xticks(rotation='vertical')\n",
        "\n",
        "# Display the histogram\n",
        "plt.show()"
      ],
      "metadata": {
        "id": "LUE0xyQ0OZl2"
      },
      "execution_count": null,
      "outputs": []
    },
    {
      "cell_type": "code",
      "source": [
        "df_2014 = df[df['FiscalYear'] == 2015]\n",
        "\n",
        "# Create the histogram for PrimaryDrug in 2014\n",
        "ax = df_2014['PrimaryDrug'].hist()\n",
        "\n",
        "# Set plot labels and title\n",
        "plt.title('PrimaryDrug Histogram - Year 2015')\n",
        "plt.xlabel('PrimaryDrug')\n",
        "plt.ylabel('Frequency')\n",
        "\n",
        "# Rotate x-axis labels vertically\n",
        "plt.xticks(rotation='vertical')\n",
        "\n",
        "# Display the histogram\n",
        "plt.show()"
      ],
      "metadata": {
        "id": "afANAVdiOahb"
      },
      "execution_count": null,
      "outputs": []
    },
    {
      "cell_type": "code",
      "source": [
        "df_2014 = df[df['FiscalYear'] == 2016]\n",
        "\n",
        "# Create the histogram for PrimaryDrug in 2014\n",
        "ax = df_2014['PrimaryDrug'].hist()\n",
        "\n",
        "# Set plot labels and title\n",
        "plt.title('PrimaryDrug Histogram - Year 2016')\n",
        "plt.xlabel('PrimaryDrug')\n",
        "plt.ylabel('Frequency')\n",
        "\n",
        "# Rotate x-axis labels vertically\n",
        "plt.xticks(rotation='vertical')\n",
        "\n",
        "# Display the histogram\n",
        "plt.show()"
      ],
      "metadata": {
        "id": "dT5GZ0eLOjYm"
      },
      "execution_count": null,
      "outputs": []
    },
    {
      "cell_type": "code",
      "source": [
        "\n",
        "# Bar chart: AdmCount by PrimaryDrug\n",
        "plt.figure(figsize=(10, 6))\n",
        "df.groupby('PrimaryDrug')['AdmCount'].sum().plot(kind='bar')\n",
        "plt.xlabel('Primary Drug')\n",
        "plt.ylabel('Admission Count')\n",
        "plt.title('Admission Count by Primary Drug')\n",
        "plt.show()"
      ],
      "metadata": {
        "id": "-TZfxBroOrjI"
      },
      "execution_count": null,
      "outputs": []
    },
    {
      "cell_type": "code",
      "source": [
        "# Line chart: AdmCount over time\n",
        "plt.figure(figsize=(10, 6))\n",
        "df.groupby('MonthYear')['AdmCount'].sum().plot(kind='line')\n",
        "plt.xlabel('Month-Year')\n",
        "plt.ylabel('Admission Count')\n",
        "plt.title('Admission Count Over Time')\n",
        "plt.xticks(rotation=45)\n",
        "plt.show()"
      ],
      "metadata": {
        "id": "817CBfuWOt1l"
      },
      "execution_count": null,
      "outputs": []
    },
    {
      "cell_type": "code",
      "source": [
        "top_towns = df.groupby('Town')['AdmCount'].sum().nlargest(15)\n",
        "\n",
        "# Plot the bar chart\n",
        "plt.figure(figsize=(10, 6))\n",
        "plt.bar(top_towns.index, top_towns.values)\n",
        "plt.xlabel('Town')\n",
        "plt.ylabel('AdmCount')\n",
        "plt.title('Top 15 Towns with Highest AdmCount')\n",
        "plt.xticks(rotation=45)  # Rotate x-axis labels for better readability\n",
        "plt.tight_layout()\n",
        "plt.show()"
      ],
      "metadata": {
        "id": "wBWHjXUuO5Uv"
      },
      "execution_count": null,
      "outputs": []
    },
    {
      "cell_type": "code",
      "source": [
        "np.random.seed(42)"
      ],
      "metadata": {
        "id": "kVGDTOTCO6tc"
      },
      "execution_count": null,
      "outputs": []
    },
    {
      "cell_type": "code",
      "source": [
        "df.describe()"
      ],
      "metadata": {
        "id": "sClhYwwXO-pS"
      },
      "execution_count": null,
      "outputs": []
    },
    {
      "cell_type": "code",
      "source": [
        "seb.countplot(data=df,x=\"FiscalYear\",hue=\"PrimaryDrug\")"
      ],
      "metadata": {
        "id": "8Emr0_P9PDUt"
      },
      "execution_count": null,
      "outputs": []
    }
  ]
}